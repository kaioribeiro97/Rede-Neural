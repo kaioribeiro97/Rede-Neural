{
 "cells": [
  {
   "cell_type": "code",
   "execution_count": null,
   "id": "94ad62a6",
   "metadata": {},
   "outputs": [],
   "source": [
    "from google.colab import drive"
   ]
  },
  {
   "cell_type": "code",
   "execution_count": null,
   "id": "3f25621f",
   "metadata": {},
   "outputs": [],
   "source": [
    "drive.mount('/content/drive')"
   ]
  },
  {
   "cell_type": "code",
   "execution_count": null,
   "id": "56b7e8c6",
   "metadata": {},
   "outputs": [],
   "source": [
    "import os"
   ]
  },
  {
   "cell_type": "code",
   "execution_count": null,
   "id": "62e40f6d",
   "metadata": {},
   "outputs": [],
   "source": [
    "os.chdir(os.path.join(os.getcwd(), 'drive', 'My Drive', 'Colab Notebooks'))\n",
    "path = os.getcwd()\n",
    "path_data = os.path.join(path, 'data')\n"
   ]
  },
  {
   "cell_type": "code",
   "execution_count": null,
   "id": "c5430f6c",
   "metadata": {},
   "outputs": [],
   "source": [
    "import pandas as pd\n",
    "import tensorflow as tf\n",
    "import matplotlib.pyplot as plt\n",
    "import matplotlib.image as imgplt\n",
    "import numpy as np\n",
    "from tensorflow import keras\n"
   ]
  },
  {
   "cell_type": "code",
   "execution_count": null,
   "id": "6909d421",
   "metadata": {},
   "outputs": [],
   "source": [
    "batch_size = 16"
   ]
  },
  {
   "cell_type": "code",
   "execution_count": null,
   "id": "d2dc083c",
   "metadata": {},
   "outputs": [],
   "source": [
    "df = pd.read_csv('pokemon.csv')\n",
    "df = df.sample(frac=1, random_state=42)\n",
    "test_split = 0.8\n",
    "df_train = df.iloc[:int(len(df) * test_split)]\n",
    "df_test = df.iloc[int(len(df) * test_split):]\n",
    "df_train.head()\n"
   ]
  },
  {
   "cell_type": "code",
   "execution_count": null,
   "id": "df19d9b3",
   "metadata": {},
   "outputs": [],
   "source": [
    "file = df_train['file'].iloc[100]\n",
    "img = imgplt.imread(os.path.join(path_data, file))\n",
    "plt.imshow(img)\n",
    "plt.show()\n"
   ]
  },
  {
   "cell_type": "code",
   "execution_count": null,
   "id": "35647a6d",
   "metadata": {},
   "outputs": [],
   "source": [
    "labels = list(df.columns.values)\n",
    "labels.remove('file')\n"
   ]
  },
  {
   "cell_type": "code",
   "execution_count": null,
   "id": "c1ae91f4",
   "metadata": {},
   "outputs": [],
   "source": [
    "generator = keras.preprocessing.image.ImageDataGenerator(samplewise_center=True,\n",
    "                                                         samplewise_std_normalization=True)\n"
   ]
  },
  {
   "cell_type": "code",
   "execution_count": null,
   "id": "52318ae5",
   "metadata": {},
   "outputs": [],
   "source": [
    "generator_train = generator.flow_from_dataframe(dataframe=df_train,\n",
    "                                               directory=\"data\",\n",
    "                                               x_col='file',\n",
    "                                               y_col=labels,\n",
    "                                               class_mode='raw',\n",
    "                                               batch_size=batch_size,\n",
    "                                               shuffle=False)\n"
   ]
  },
  {
   "cell_type": "code",
   "execution_count": null,
   "id": "75085e58",
   "metadata": {},
   "outputs": [],
   "source": [
    "generator_test = generator.flow_from_dataframe(dataframe=df_test,\n",
    "                                               directory=\"data\",\n",
    "                                               x_col='file',\n",
    "                                               y_col=labels,\n",
    "                                               class_mode='raw',\n",
    "                                               batch_size=batch_size,\n",
    "                                               shuffle=False)\n"
   ]
  },
  {
   "cell_type": "code",
   "execution_count": null,
   "id": "4c071106",
   "metadata": {},
   "outputs": [],
   "source": [
    "plt.xticks(rotation=90)\n",
    "plt.bar(x=labels, height=np.mean(generator_train.labels, axis=0))\n",
    "plt.title(\"Proporção de imagens em cada classe\")\n",
    "plt.show()\n"
   ]
  },
  {
   "cell_type": "code",
   "execution_count": null,
   "id": "ded150f7",
   "metadata": {},
   "outputs": [],
   "source": [
    "# Crie aqui o seu modelo\n",
    "# Para compatibilidade do código das próximas células, o modelo deve ser salvo\n",
    "# em uma variável chamada 'model'\n",
    "# INÍCIO DO CÓDIGO\n",
    "img_shape=(256,256,3)\n",
    "\n",
    "model = keras.Sequential()\n",
    "model.add(keras.layers.Conv2D(128,3,input_shape=(img_shape),activation='relu'))\n",
    "model.add(keras.layers.MaxPool2D())\n",
    "model.add(keras.layers.Conv2D(128,3,strides=(2,2),activation='relu'))\n",
    "model.add(keras.layers.MaxPool2D())\n",
    "model.add(keras.layers.BatchNormalization())\n",
    "model.add(keras.layers.Conv2D(64,3,strides=(2,2),activation='relu'))\n",
    "model.add(keras.layers.MaxPool2D())\n",
    "model.add(keras.layers.Flatten())\n",
    "model.add(keras.layers.Dropout(0.2))\n",
    "model.add(keras.layers.Dense(1024,activation='relu'))\n",
    "model.add(keras.layers.Dense(512,activation='relu'))\n",
    "model.add(keras.layers.Dense(150,activation='softmax'))\n",
    "\n",
    "model.summary()"
   ]
  },
  {
   "cell_type": "code",
   "execution_count": null,
   "id": "4180088b",
   "metadata": {},
   "outputs": [],
   "source": [
    "# FIM DO CÓDIGO\n",
    "\n",
    "model.compile(optimizer='adam',\n",
    "              loss=tf.keras.losses.categorical_crossentropy,\n",
    "              metrics='accuracy')\n",
    "model.summary()\n",
    "\n",
    "hist = model.fit_generator(generator_train,epochs=10)\n",
    "\n",
    "eval = model.evaluate(generator_test)\n",
    "\n"
   ]
  }
 ],
 "metadata": {
  "kernelspec": {
   "display_name": "Python 3",
   "language": "python",
   "name": "python3"
  },
  "language_info": {
   "codemirror_mode": {
    "name": "ipython",
    "version": 3
   },
   "file_extension": ".py",
   "mimetype": "text/x-python",
   "name": "python",
   "nbconvert_exporter": "python",
   "pygments_lexer": "ipython3",
   "version": "3.6.13"
  }
 },
 "nbformat": 4,
 "nbformat_minor": 5
}
